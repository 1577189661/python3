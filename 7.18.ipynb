{
 "cells": [
  {
   "cell_type": "markdown",
   "metadata": {},
   "source": [
    "# 选择\n",
    "## 布尔类型、数值和表达式\n",
    "![](../Photo/33.png)\n",
    "- 注意：比较运算符的相等是两个等号，一个等到代表赋值\n",
    "- 在Python中可以用整型0来代表False，其他数字来代表True\n",
    "- 后面还会讲到 is 在判断语句中的用发"
   ]
  },
  {
   "cell_type": "code",
   "execution_count": 1,
   "metadata": {},
   "outputs": [
    {
     "data": {
      "text/plain": [
       "True"
      ]
     },
     "execution_count": 1,
     "metadata": {},
     "output_type": "execute_result"
    }
   ],
   "source": [
    "bool #true or false 就是布尔\n",
    "bool(-1)"
   ]
  },
  {
   "cell_type": "code",
   "execution_count": 7,
   "metadata": {},
   "outputs": [
    {
     "name": "stdout",
     "output_type": "stream",
     "text": [
      "1792485568 1792485568\n"
     ]
    },
    {
     "data": {
      "text/plain": [
       "False"
      ]
     },
     "execution_count": 7,
     "metadata": {},
     "output_type": "execute_result"
    }
   ],
   "source": [
    "#判断is\n",
    "a = id(1)\n",
    "b = id(1)\n",
    "#因为a和b并公布时同一个对象\n",
    "print(a,b)\n",
    "a is b "
   ]
  },
  {
   "cell_type": "code",
   "execution_count": null,
   "metadata": {},
   "outputs": [],
   "source": [
    "a =True\n",
    "b=False"
   ]
  },
  {
   "cell_type": "code",
   "execution_count": 6,
   "metadata": {},
   "outputs": [
    {
     "data": {
      "text/plain": [
       "True"
      ]
     },
     "execution_count": 6,
     "metadata": {},
     "output_type": "execute_result"
    }
   ],
   "source": [
    "a == b"
   ]
  },
  {
   "cell_type": "code",
   "execution_count": 5,
   "metadata": {},
   "outputs": [
    {
     "data": {
      "text/plain": [
       "False"
      ]
     },
     "execution_count": 5,
     "metadata": {},
     "output_type": "execute_result"
    }
   ],
   "source": [
    "a is b"
   ]
  },
  {
   "cell_type": "markdown",
   "metadata": {},
   "source": [
    "## 字符串的比较使用ASCII值"
   ]
  },
  {
   "cell_type": "code",
   "execution_count": 12,
   "metadata": {},
   "outputs": [
    {
     "data": {
      "text/plain": [
       "True"
      ]
     },
     "execution_count": 12,
     "metadata": {},
     "output_type": "execute_result"
    }
   ],
   "source": [
    "a = \"joker\"\n",
    "b = \"jokar\"\n",
    "a > b"
   ]
  },
  {
   "cell_type": "markdown",
   "metadata": {},
   "source": [
    "## Markdown \n",
    "- https://github.com/younghz/Markdown"
   ]
  },
  {
   "cell_type": "code",
   "execution_count": null,
   "metadata": {},
   "outputs": [],
   "source": []
  },
  {
   "cell_type": "markdown",
   "metadata": {},
   "source": [
    "## EP:\n",
    "- <img src=\"../Photo/34.png\"></img>\n",
    "- 输入一个数字，判断其实奇数还是偶数"
   ]
  },
  {
   "cell_type": "markdown",
   "metadata": {},
   "source": [
    "## 产生随机数字\n",
    "- 函数random.randint(a,b) 可以用来产生一个a和b之间且包括a和b的随机整数"
   ]
  },
  {
   "cell_type": "markdown",
   "metadata": {},
   "source": [
    "产生一个随机数，你去输入，如果你输入的数大于随机数，那么就告诉你太大了，反之，太小了，\n",
    "然后你一直输入，知道它满意为止"
   ]
  },
  {
   "cell_type": "code",
   "execution_count": 13,
   "metadata": {},
   "outputs": [
    {
     "data": {
      "text/plain": [
       "0"
      ]
     },
     "execution_count": 13,
     "metadata": {},
     "output_type": "execute_result"
    }
   ],
   "source": [
    "import random\n",
    "random.randint(0,1)"
   ]
  },
  {
   "cell_type": "code",
   "execution_count": 32,
   "metadata": {},
   "outputs": [],
   "source": [
    "number = random.randint(0,10)"
   ]
  },
  {
   "cell_type": "code",
   "execution_count": 45,
   "metadata": {},
   "outputs": [
    {
     "name": "stdout",
     "output_type": "stream",
     "text": [
      ">>1\n",
      "太小\n",
      ">>2\n",
      "正好\n"
     ]
    }
   ],
   "source": [
    "for i in range(5):\n",
    "    input_ = eval(input('>>'))\n",
    "    if input_ > number:\n",
    "        print('太大')\n",
    "    if input_ < number:\n",
    "        print('太小')\n",
    "    if number == input_:\n",
    "        print('正好')\n",
    "        break"
   ]
  },
  {
   "cell_type": "markdown",
   "metadata": {},
   "source": [
    "##  其他random方法\n",
    "- random.random 返回0.0到1.0之间前闭后开区间的随机浮点\n",
    "- random.randrange(a,b) 前闭后开"
   ]
  },
  {
   "cell_type": "code",
   "execution_count": null,
   "metadata": {},
   "outputs": [],
   "source": []
  },
  {
   "cell_type": "markdown",
   "metadata": {},
   "source": [
    "## EP：\n",
    "- 产生两个随机整数number1和number2，然后显示给用户，使用户输入数字的和，并判定其是否正确\n",
    "- 进阶:写一个随机序号点名程序"
   ]
  },
  {
   "cell_type": "markdown",
   "metadata": {},
   "source": [
    "## if语句\n",
    "- 如果条件正确就执行一个单向if语句，亦即当条件为真的时候才执行if内部的语句\n",
    "- Python有很多选择语句:\n",
    "> - 单向if \n",
    "  - 双向if-else\n",
    "  - 嵌套if\n",
    "  - 多向if-elif-else\n",
    "  \n",
    "- 注意：当语句含有子语句的时候，那么一定至少要有一个缩进，也就是说如果有儿子存在，那么一定要缩进\n",
    "- 切记不可tab键和space混用，单用tab 或者 space\n",
    "- 当你输出的结果是无论if是否为真时都需要显示时，语句应该与if对齐"
   ]
  },
  {
   "cell_type": "code",
   "execution_count": 6,
   "metadata": {},
   "outputs": [
    {
     "name": "stdout",
     "output_type": "stream",
     "text": [
      "年轻么[y/n]y\n",
      "帅否[y/n]y\n",
      "有咩有老婆[y/n]n\n",
      "回家的诱惑\n"
     ]
    }
   ],
   "source": [
    "age = input('年轻么[y/n]')\n",
    "if age =='y':\n",
    "    handsome = input('帅否[y/n]')\n",
    "    if handsome == 'y':\n",
    "        wife = input('有咩有老婆[y/n]')\n",
    "        if wife == 'y':\n",
    "            pass\n",
    "        else:\n",
    "            print('回家的诱惑')\n",
    "    else:\n",
    "        print('考虑一下')\n",
    "else:\n",
    "    print('拜拜')"
   ]
  },
  {
   "cell_type": "markdown",
   "metadata": {},
   "source": [
    "## EP：\n",
    "- 用户输入一个数字，判断其实奇数还是偶数\n",
    "- 进阶：可以查看下4.5实例研究猜生日"
   ]
  },
  {
   "cell_type": "markdown",
   "metadata": {},
   "source": [
    "## 双向if-else 语句\n",
    "- 如果条件为真，那么走if内部语句，否则走else内部语句"
   ]
  },
  {
   "cell_type": "markdown",
   "metadata": {},
   "source": [
    "## EP：\n",
    "- 产生两个随机整数number1和number2，然后显示给用户，使用户输入数字，并判定其是否正确,如果正确打印“you‘re correct”，否则打印正确错误"
   ]
  },
  {
   "cell_type": "markdown",
   "metadata": {},
   "source": [
    "## 嵌套if 和多向if-elif-else\n",
    "![](../Photo/35.png)"
   ]
  },
  {
   "cell_type": "markdown",
   "metadata": {},
   "source": [
    "## EP：\n",
    "- 提示用户输入一个年份，然后显示表示这一年的动物\n",
    "![](../Photo/36.png)\n",
    "- 计算身体质量指数的程序\n",
    "- BMI = 以千克为单位的体重除以以米为单位的身高的平方\n",
    "![](../Photo/37.png)"
   ]
  },
  {
   "cell_type": "code",
   "execution_count": 26,
   "metadata": {},
   "outputs": [
    {
     "name": "stdout",
     "output_type": "stream",
     "text": [
      "month>>1\n",
      "an\n"
     ]
    }
   ],
   "source": [
    "month= eval(input('month>>'))\n",
    "if month%12=='1':\n",
    "    an = '鼠'    \n",
    "else:\n",
    "    print('an')\n",
    "    \n"
   ]
  },
  {
   "cell_type": "code",
   "execution_count": 9,
   "metadata": {},
   "outputs": [
    {
     "name": "stdout",
     "output_type": "stream",
     "text": [
      "体重134\n",
      "身高174\n",
      "标准\n"
     ]
    }
   ],
   "source": [
    "tizhong = eval(input('体重'))\n",
    "shengao = eval(input('身高'))\n",
    "BIM = tizhong/ shengao ** 2\n",
    "if BIM<=18.5:\n",
    "               print('标准')\n",
    "elif 18.5<=BIM<25:\n",
    "               print('标准')\n",
    "elif 25<=BIM30:\n",
    "               print('超重')\n",
    "elif 30<=BIM:\n",
    "               print('痴肥')\n",
    "else:\n",
    "               print('超胖')"
   ]
  },
  {
   "cell_type": "markdown",
   "metadata": {},
   "source": [
    "## 逻辑运算符\n",
    "![](../Photo/38.png)"
   ]
  },
  {
   "cell_type": "markdown",
   "metadata": {},
   "source": [
    "![](../Photo/39.png)\n",
    "![](../Photo/40.png)"
   ]
  },
  {
   "cell_type": "markdown",
   "metadata": {},
   "source": [
    "## EP：\n",
    "- 判定闰年：一个年份如果能被4整除但不能被100整除，或者能被400整除，那么这个年份就是闰年\n",
    "- 提示用户输入一个年份，并返回是否是闰年\n",
    "- 提示用户输入一个数字，判断其是否为水仙花数"
   ]
  },
  {
   "cell_type": "code",
   "execution_count": 16,
   "metadata": {},
   "outputs": [
    {
     "name": "stdout",
     "output_type": "stream",
     "text": [
      "Year2008\n",
      "闰年\n"
     ]
    }
   ],
   "source": [
    "year = eval(input('Year'))\n",
    "\n",
    "if (year % 4 == 0  and  year %100 != 0 or(year%400==0)):\n",
    "    print('闰年')\n",
    "else:\n",
    "    print('平年')\n"
   ]
  },
  {
   "cell_type": "code",
   "execution_count": 13,
   "metadata": {},
   "outputs": [
    {
     "name": "stdout",
     "output_type": "stream",
     "text": [
      ">>132\n",
      "否\n"
     ]
    }
   ],
   "source": [
    "#水仙花\n",
    "Number = eval(input('>>'))\n",
    "\n",
    "bai = Number//100\n",
    "shi = Number // 10%10\n",
    "ge = Number% 10\n",
    "if bai**3 + shi **3 + ge **3 == Nnumber:\n",
    "    print('水仙花')\n",
    "else:\n",
    "    print('否')"
   ]
  },
  {
   "cell_type": "markdown",
   "metadata": {},
   "source": [
    "## 实例研究：彩票\n",
    "![](../Photo/41.png)"
   ]
  },
  {
   "cell_type": "code",
   "execution_count": null,
   "metadata": {},
   "outputs": [],
   "source": []
  },
  {
   "cell_type": "markdown",
   "metadata": {},
   "source": [
    "# Homework\n",
    "- 1\n",
    "![](../Photo/42.png)"
   ]
  },
  {
   "cell_type": "code",
   "execution_count": 2,
   "metadata": {},
   "outputs": [
    {
     "name": "stdout",
     "output_type": "stream",
     "text": [
      "输入a，b，c：1,2,3\n",
      "方程没有根\n"
     ]
    }
   ],
   "source": [
    "a, b, c = eval(input('输入a，b，c：'))\n",
    "delta = b * b - 4 * a * c\n",
    "if delta > 0:\n",
    "    r1 = (-b + (b * b - 4 * a * c) ** 0.5) / (2 * a)\n",
    "    r2 = (-b - (b * b - 4 * a * c) ** 0.5) / (2 * a)\n",
    "    print('方程的根分别为 x1 = ' + str(r1) + ' x2 = '+ str(r2))\n",
    "elif delta == 0:\n",
    "    r1 = (-b + (b * b - 4 * a * c) ** 0.5) / (2 * a)\n",
    "    print('方程有一个根为 x1 = ' + str(r1 ))\n",
    "else:\n",
    "    print('方程没有根')\n",
    "    "
   ]
  },
  {
   "cell_type": "markdown",
   "metadata": {},
   "source": [
    "- 2\n",
    "![](../Photo/43.png)"
   ]
  },
  {
   "cell_type": "code",
   "execution_count": 1,
   "metadata": {},
   "outputs": [
    {
     "name": "stdout",
     "output_type": "stream",
     "text": [
      "输入第一个100以下的整数：20\n",
      "输入第二个100以下的整数：23\n",
      "计算 20 + 23 = ? \n",
      " 50\n",
      "结果为假\n"
     ]
    }
   ],
   "source": [
    "number1 = eval(input('输入第一个100以下的整数：'))\n",
    "number2 = eval(input('输入第二个100以下的整数：'))\n",
    "answer = number1 + number2\n",
    "sums = eval(input('计算 %d + %d = ? \\n ' %(number1, number2)))\n",
    "if sums == answer:\n",
    "    print('结果为真')\n",
    "else:\n",
    "    print('结果为假')"
   ]
  },
  {
   "cell_type": "markdown",
   "metadata": {},
   "source": [
    "- 3\n",
    "![](../Photo/44.png)"
   ]
  },
  {
   "cell_type": "code",
   "execution_count": 3,
   "metadata": {},
   "outputs": [
    {
     "name": "stdout",
     "output_type": "stream",
     "text": [
      "输入哪天1\n",
      "输入间隔的天数：30\n",
      "今天是星期一,经过30天后， 是星期三\n"
     ]
    }
   ],
   "source": [
    "dayToday = eval(input('输入哪天'))\n",
    "dayNumbers = eval(input('输入间隔的天数：'))\n",
    "dayFuture = (dayToday + dayNumbers) % 7 \n",
    "dayList = ['星期日', '星期一', '星期二', '星期三', '星期四', '星期五', '星期六']\n",
    "print('今天是' + dayList[dayToday] + ',' + '经过%d天后，'%dayNumbers, '是' + dayList[dayFuture])"
   ]
  },
  {
   "cell_type": "markdown",
   "metadata": {},
   "source": [
    "- 4\n",
    "![](../Photo/45.png)"
   ]
  },
  {
   "cell_type": "code",
   "execution_count": 4,
   "metadata": {},
   "outputs": [
    {
     "name": "stdout",
     "output_type": "stream",
     "text": [
      "输入第一个整数：2\n",
      "输入第二个整数：45\n",
      "输入第三个整数：7\n",
      "2 45 7\n",
      "2 7 45\n"
     ]
    }
   ],
   "source": [
    "number1 = eval(input('输入第一个整数：'))\n",
    "number2 = eval(input('输入第二个整数：'))\n",
    "number3 = eval(input('输入第三个整数：'))\n",
    "print(number1, number2, number3)\n",
    "numList = [number1, number2, number3]\n",
    "maxNum = max(number1, number2, number3)\n",
    "minNum = min(number1, number2, number3)\n",
    "midNum = number1\n",
    "for i in range(0, 3):\n",
    "    if numList[i] != maxNum and numList[i] != minNum:\n",
    "        midNum = numList[i]\n",
    "print( minNum, midNum, maxNum)"
   ]
  },
  {
   "cell_type": "markdown",
   "metadata": {},
   "source": [
    "- 5\n",
    "![](../Photo/46.png)"
   ]
  },
  {
   "cell_type": "code",
   "execution_count": null,
   "metadata": {},
   "outputs": [],
   "source": []
  },
  {
   "cell_type": "markdown",
   "metadata": {},
   "source": [
    "- 6\n",
    "![](../Photo/47.png)"
   ]
  },
  {
   "cell_type": "code",
   "execution_count": 8,
   "metadata": {},
   "outputs": [
    {
     "name": "stdout",
     "output_type": "stream",
     "text": [
      "输入月份：3\n",
      "输入年份：2005\n",
      "2005年3月的天数为 31天\n"
     ]
    }
   ],
   "source": [
    "months = eval(input('输入月份：'))\n",
    "year = eval(input('输入年份：'))\n",
    "list1 = [1, 3, 5, 7, 8, 10, 12]\n",
    "runNian = ((year % 4 ==0) and (year % 100 !=0)) or (year % 400 ==0)\n",
    "if months in list1:\n",
    "    dayMonth = 31\n",
    "elif runNian and (months == 2):\n",
    "    dayMonth = 29\n",
    "elif (not runNian) and (months == 2):\n",
    "    dayMonth = 28\n",
    "else:\n",
    "    dayMonth = 30\n",
    "print('%d年%d月的天数为 %d天' %(year, months, dayMonth))"
   ]
  },
  {
   "cell_type": "markdown",
   "metadata": {},
   "source": [
    "- 7\n",
    "![](../Photo/48.png)"
   ]
  },
  {
   "cell_type": "code",
   "execution_count": 10,
   "metadata": {},
   "outputs": [
    {
     "name": "stdout",
     "output_type": "stream",
     "text": [
      "输入猜测值，0代表反面，1代表正面：0\n",
      "您猜对了，硬币是 反面\n"
     ]
    }
   ],
   "source": [
    "import random\n",
    "yingbi = random.randint(0, 1)\n",
    "guess = eval(input('输入猜测值，0代表反面，1代表正面：'))\n",
    "ybList = ['反面', '正面']\n",
    "if yingbi == guess:\n",
    "    print('您猜对了，硬币是', ybList[guess])\n",
    "else:\n",
    "    print('您猜错了，正确答案是', ybList[yingbi])"
   ]
  },
  {
   "cell_type": "markdown",
   "metadata": {},
   "source": [
    "- 8\n",
    "![](../Photo/49.png)"
   ]
  },
  {
   "cell_type": "code",
   "execution_count": null,
   "metadata": {},
   "outputs": [],
   "source": []
  },
  {
   "cell_type": "markdown",
   "metadata": {},
   "source": [
    "- 9\n",
    "![](../Photo/50.png)"
   ]
  },
  {
   "cell_type": "markdown",
   "metadata": {},
   "source": [
    "- 10\n",
    "![](../Photo/51.png)"
   ]
  },
  {
   "cell_type": "code",
   "execution_count": 11,
   "metadata": {},
   "outputs": [
    {
     "name": "stdout",
     "output_type": "stream",
     "text": [
      "The card you picked is the 6 of Spade\n"
     ]
    }
   ],
   "source": [
    "import random\n",
    "numberDict = {1: 'Ace', 2: '2', 3: '3', 4: '4', 5: '5', 6: '6', 7: '7', 8: '8', 9: '9', 10: '10', \\\n",
    "             11: 'Jack', 12: 'Queen', 13: 'King'}\n",
    "colorDict = {1:'Spade', 2: 'Heart', 3: 'Diamond', 4: 'Club'}\n",
    "randNum = random.randint(1, 13)\n",
    "randCol = random.randint(1, 4)\n",
    "print('The card you picked is the ' + numberDict[randNum] + ' of ' + colorDict[randCol])"
   ]
  },
  {
   "cell_type": "markdown",
   "metadata": {},
   "source": [
    "- 11\n",
    "![](../Photo/52.png)"
   ]
  },
  {
   "cell_type": "code",
   "execution_count": 2,
   "metadata": {},
   "outputs": [
    {
     "name": "stdout",
     "output_type": "stream",
     "text": [
      "输入一个三位整数：123\n",
      "数字123不是一个回文数\n"
     ]
    }
   ],
   "source": [
    "numInput = input('输入一个三位整数：')\n",
    "invesNum = numInput[2] + numInput[1] + numInput[0] \n",
    "if eval(numInput) == eval(invesNum):\n",
    "    print('数字' + numInput + '是一个回文数')\n",
    "else:\n",
    "    print('数字' + numInput + '不是一个回文数')"
   ]
  },
  {
   "cell_type": "markdown",
   "metadata": {},
   "source": [
    "- 12\n",
    "![](../Photo/53.png)"
   ]
  }
 ],
 "metadata": {
  "kernelspec": {
   "display_name": "Python 3",
   "language": "python",
   "name": "python3"
  },
  "language_info": {
   "codemirror_mode": {
    "name": "ipython",
    "version": 3
   },
   "file_extension": ".py",
   "mimetype": "text/x-python",
   "name": "python",
   "nbconvert_exporter": "python",
   "pygments_lexer": "ipython3",
   "version": "3.6.4"
  }
 },
 "nbformat": 4,
 "nbformat_minor": 2
}

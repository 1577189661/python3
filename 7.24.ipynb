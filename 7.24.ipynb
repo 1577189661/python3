{
 "cells": [
  {
   "cell_type": "markdown",
   "metadata": {},
   "source": [
    "# 更多字符串和特殊方法\n",
    "- 前面我们已经学了类，在Python中还有一些特殊的方法起着非常重要的作用，这里会介绍一些特殊的方法和运算符的重载，以及使用特殊方法设计类"
   ]
  },
  {
   "cell_type": "markdown",
   "metadata": {},
   "source": [
    "## str 类\n",
    "- 一个str对象是不可变的，也就是说，一旦创建了这个字符串，那么它的内容在认为不改变的情况下是不会变的\n",
    "- s1 = str()\n",
    "- s2 = str('welcome to Python')"
   ]
  },
  {
   "cell_type": "markdown",
   "metadata": {},
   "source": [
    "## 创建两个对象，分别观察两者id\n",
    "- id为Python内存地址"
   ]
  },
  {
   "cell_type": "markdown",
   "metadata": {},
   "source": [
    "## 处理字符串的函数\n",
    "- len\n",
    "- max\n",
    "- min\n",
    "- 字符串一切是按照ASCII码值进行比较"
   ]
  },
  {
   "cell_type": "markdown",
   "metadata": {},
   "source": [
    "## 下角标运算符 []\n",
    "- 一个字符串是一个字符序列，可以通过索引进行访问\n",
    "- 观察字符串是否是一个可迭代序列  \\__iter__"
   ]
  },
  {
   "cell_type": "markdown",
   "metadata": {},
   "source": [
    "## 切片 [start: end]\n",
    "- start 默认值为0\n",
    "- end 默认值为-1"
   ]
  },
  {
   "cell_type": "markdown",
   "metadata": {},
   "source": [
    "## 链接运算符 + 和复制运算符 *\n",
    "- \\+ 链接多个字符串，同时''.join()也是\n",
    "- \\* 复制多个字符串"
   ]
  },
  {
   "cell_type": "markdown",
   "metadata": {},
   "source": [
    "## in 和 not in 运算符\n",
    "- in :判断某个字符是否在字符串内 \n",
    "- not in ：判断某个字符是否不在字符串内\n",
    "- 返回的是布尔值"
   ]
  },
  {
   "cell_type": "markdown",
   "metadata": {},
   "source": [
    "## 比较字符串\n",
    "-  ==, !=, >=, <=, >, <\n",
    "- 依照ASCII码值进行比较"
   ]
  },
  {
   "cell_type": "markdown",
   "metadata": {},
   "source": [
    "## 测试字符串\n",
    "![](../Photo/99.png)\n",
    "- 注意：\n",
    "> - isalnum() 中是不能包含空格，否则会返回False"
   ]
  },
  {
   "cell_type": "code",
   "execution_count": 1,
   "metadata": {},
   "outputs": [],
   "source": [
    "#编写代码 输入八位数判断大小写数字的个数\n",
    "a='123zxc'\n",
    "def con(a):\n",
    "    N1,N2,N3,=0,0,0\n",
    "    a= len(a)\n",
    "    for i in a:\n",
    "        if i.isupper():\n",
    "            N1+=1\n",
    "        elif i.islower():\n",
    "            N2+=1\n",
    "        elif i.digit():\n",
    "                N3+=1\n",
    "    if N1==0:\n",
    "        print('密码必须含有大写')\n",
    "    if N2==0:\n",
    "        print('密码必须含有小写')\n",
    "    if N3==0:\n",
    "         print('密码必须含有数字')\n",
    "    if N<8:\n",
    "        print('密码必须大于八位数字')\n",
    "        "
   ]
  },
  {
   "cell_type": "code",
   "execution_count": 5,
   "metadata": {},
   "outputs": [
    {
     "ename": "TypeError",
     "evalue": "'int' object is not iterable",
     "output_type": "error",
     "traceback": [
      "\u001b[1;31m---------------------------------------------------------------------------\u001b[0m",
      "\u001b[1;31mTypeError\u001b[0m                                 Traceback (most recent call last)",
      "\u001b[1;32m<ipython-input-5-2e2b448167fc>\u001b[0m in \u001b[0;36m<module>\u001b[1;34m()\u001b[0m\n\u001b[0;32m      1\u001b[0m \u001b[0ma\u001b[0m\u001b[1;33m=\u001b[0m\u001b[1;34m'123zxc'\u001b[0m\u001b[1;33m\u001b[0m\u001b[0m\n\u001b[1;32m----> 2\u001b[1;33m \u001b[0mcon\u001b[0m\u001b[1;33m(\u001b[0m\u001b[0ma\u001b[0m\u001b[1;33m)\u001b[0m\u001b[1;33m\u001b[0m\u001b[0m\n\u001b[0m",
      "\u001b[1;32m<ipython-input-1-fdd634661c0e>\u001b[0m in \u001b[0;36mcon\u001b[1;34m(a)\u001b[0m\n\u001b[0;32m      4\u001b[0m     \u001b[0mN1\u001b[0m\u001b[1;33m,\u001b[0m\u001b[0mN2\u001b[0m\u001b[1;33m,\u001b[0m\u001b[0mN3\u001b[0m\u001b[1;33m,\u001b[0m\u001b[1;33m=\u001b[0m\u001b[1;36m0\u001b[0m\u001b[1;33m,\u001b[0m\u001b[1;36m0\u001b[0m\u001b[1;33m,\u001b[0m\u001b[1;36m0\u001b[0m\u001b[1;33m\u001b[0m\u001b[0m\n\u001b[0;32m      5\u001b[0m     \u001b[0ma\u001b[0m\u001b[1;33m=\u001b[0m \u001b[0mlen\u001b[0m\u001b[1;33m(\u001b[0m\u001b[0ma\u001b[0m\u001b[1;33m)\u001b[0m\u001b[1;33m\u001b[0m\u001b[0m\n\u001b[1;32m----> 6\u001b[1;33m     \u001b[1;32mfor\u001b[0m \u001b[0mi\u001b[0m \u001b[1;32min\u001b[0m \u001b[0ma\u001b[0m\u001b[1;33m:\u001b[0m\u001b[1;33m\u001b[0m\u001b[0m\n\u001b[0m\u001b[0;32m      7\u001b[0m         \u001b[1;32mif\u001b[0m \u001b[0mi\u001b[0m\u001b[1;33m.\u001b[0m\u001b[0misupper\u001b[0m\u001b[1;33m(\u001b[0m\u001b[1;33m)\u001b[0m\u001b[1;33m:\u001b[0m\u001b[1;33m\u001b[0m\u001b[0m\n\u001b[0;32m      8\u001b[0m             \u001b[0mN1\u001b[0m\u001b[1;33m+=\u001b[0m\u001b[1;36m1\u001b[0m\u001b[1;33m\u001b[0m\u001b[0m\n",
      "\u001b[1;31mTypeError\u001b[0m: 'int' object is not iterable"
     ]
    }
   ],
   "source": [
    "a='123zxc'\n",
    "con(a)"
   ]
  },
  {
   "cell_type": "markdown",
   "metadata": {},
   "source": [
    "## 搜索子串\n",
    "![](../Photo/100.png)a"
   ]
  },
  {
   "cell_type": "code",
   "execution_count": 8,
   "metadata": {},
   "outputs": [
    {
     "data": {
      "text/plain": [
       "-1"
      ]
     },
     "execution_count": 8,
     "metadata": {},
     "output_type": "execute_result"
    }
   ],
   "source": [
    "c='absz'\n",
    "c.find('as')# dfind == find fight"
   ]
  },
  {
   "cell_type": "code",
   "execution_count": 17,
   "metadata": {},
   "outputs": [
    {
     "data": {
      "text/plain": [
       "2"
      ]
     },
     "execution_count": 17,
     "metadata": {},
     "output_type": "execute_result"
    }
   ],
   "source": [
    "d='asdc'\n",
    "d.rfind('d')"
   ]
  },
  {
   "cell_type": "code",
   "execution_count": 18,
   "metadata": {},
   "outputs": [],
   "source": [
    "import requests"
   ]
  },
  {
   "cell_type": "code",
   "execution_count": 55,
   "metadata": {},
   "outputs": [
    {
     "name": "stdout",
     "output_type": "stream",
     "text": [
      "http://dmimg.5054399.com/allimg/160217/6_160217142248_2.jpg\n",
      "http://dmimg.5054399.com/allimg/160127/6_160127110842_1.jpg\n",
      "http://dmimg.5054399.com/allimg/160126/6_160126100905_2.jpg\n",
      "http://dmimg.5054399.com/allimg/151028/6_151028142939_1.jpg\n",
      "http://dmimg.5054399.com/allimg/151027/6_151027140205_1.jpg\n",
      "http://dmimg.5054399.com/allimg/151006/6_151006204107_1.jpg\n",
      "http://dmimg.5054399.com/allimg/150927/6_150927153510_1.jpg\n",
      "http://dmimg.5054399.com/allimg/150821/6_150821105253_2.jpg\n",
      "http://dmimg.5054399.com/allimg/150728/6_150728100515_1.jpg\n",
      "http://dmimg.5054399.com/allimg/150727/6_150727114156_1.jpg\n",
      "http://dmimg.5054399.com/allimg/150726/6_150726014844_1.jpg\n",
      "http://dmimg.5054399.com/allimg/150529/6_150529115733_1.jpg\n",
      "http://dmimg.5054399.com/allimg/150505/6_150505112033_1.jpg\n",
      "http://dmimg.5054399.com/allimg/150416/6_150416172603_1.jpg\n",
      "http://dmimg.5054399.com/allimg/150415/6_150415170647_1.jpg\n",
      "http://dmimg.5054399.com/allimg/150414/6_150414115634_1.jpg\n",
      "http://dmimg.5054399.com/allimg/150407/6_150407142509_2.jpg\n",
      "http://dmimg.5054399.com/allimg/150330/6_150330170659_2.jpg\n",
      "http://dmimg.5054399.com/allimg/xiaduo/121.jpg\n",
      "http://dmimg.5054399.com/allimg/xiaduo/122.jpg\n",
      "http://dmimg.5054399.com/allimg/xiaduo/123.jpg\n",
      "http://dmimg.5054399.com/allimg/170415/6_170415112850_1.jpg\n",
      "http://dmimg.5054399.com/allimg/xiaduo/126.jpg\n",
      "http://dmimg.5054399.com/allimg/xiaduo/124.jpg\n",
      "http://dmimg.5054399.com/allimg/170613/42_170613104122_3.jpg\n",
      "http://dmimg.5054399.com/allimg/160217/6_160217142248_3.jpg\n",
      "http://dmimg.5054399.com/allimg/160127/6_160127110842_2.jpg\n",
      "http://dmimg.5054399.com/allimg/160126/6_160126100905_3.jpg\n",
      "http://dmimg.5054399.com/allimg/151028/6_151028142939_2.jpg\n"
     ]
    }
   ],
   "source": [
    "ur1='http://www.4399dmw.com/haizeiwang/tupian'\n",
    "HTML =requests.get(ur1).text\n",
    "LIST=HTML.split('\\n')\n",
    "for line in LIST:\n",
    " #   if '海贼王' in i:\n",
    "     if '.jpg' in line:\n",
    "        lin2= line.split('\"')\n",
    "        for linee in lin2:\n",
    "            if '.jpg' in linee:\n",
    "                print(linee)"
   ]
  },
  {
   "cell_type": "code",
   "execution_count": 58,
   "metadata": {},
   "outputs": [
    {
     "name": "stdout",
     "output_type": "stream",
     "text": [
      "http://dmimg.5054399.com/allimg/150330/6_150330161421_2.jpg\n",
      "http://dmimg.5054399.com/allimg/150320/6_150320104402_1.jpg\n",
      "http://dmimg.5054399.com/allimg/150317/6_150317101316_1.jpg\n",
      "http://dmimg.5054399.com/allimg/150331/6_150331095525_1.jpg\n",
      "http://dmimg.5054399.com/allimg/150305/6_150305102040_3.jpg\n",
      "http://dmimg.5054399.com/allimg/150218/6_150218163858_2.jpg\n",
      "http://dmimg.5054399.com/allimg/150209/6_150209151809_1.jpg\n",
      "http://dmimg.5054399.com/allimg/150206/6_150206154705_1.jpg\n",
      "http://dmimg.5054399.com/allimg/150203/32_150203114445_1.jpg\n",
      "http://dmimg.5054399.com/allimg/150130/6_150130160542_1.jpg\n",
      "http://dmimg.5054399.com/allimg/150129/6_150129154845_1.jpg\n",
      "http://dmimg.5054399.com/allimg/150128/6_150128193911_1.jpg\n",
      "http://dmimg.5054399.com/allimg/150128/6_150128165954_1.jpg\n",
      "http://dmimg.5054399.com/allimg/150127/6_150127115234_1.jpg\n",
      "http://dmimg.5054399.com/allimg/140623/6_140623110852_1.jpg\n",
      "http://dmimg.5054399.com/allimg/150121/6_150121135815_1.jpg\n",
      "http://dmimg.5054399.com/allimg/150114/6_150114094256_1.jpg\n",
      "http://dmimg.5054399.com/allimg/141212/6_141212093715_1.jpg\n",
      "http://dmimg.5054399.com/allimg/xiaduo/121.jpg\n",
      "http://dmimg.5054399.com/allimg/xiaduo/122.jpg\n",
      "http://dmimg.5054399.com/allimg/xiaduo/123.jpg\n",
      "http://dmimg.5054399.com/allimg/170415/6_170415112850_1.jpg\n",
      "http://dmimg.5054399.com/allimg/xiaduo/126.jpg\n",
      "http://dmimg.5054399.com/allimg/xiaduo/124.jpg\n",
      "http://dmimg.5054399.com/allimg/170613/42_170613104122_3.jpg\n",
      "http://dmimg.5054399.com/allimg/160217/6_160217142248_3.jpg\n",
      "http://dmimg.5054399.com/allimg/160127/6_160127110842_2.jpg\n",
      "http://dmimg.5054399.com/allimg/160126/6_160126100905_3.jpg\n",
      "http://dmimg.5054399.com/allimg/151028/6_151028142939_2.jpg\n",
      "http://dmimg.5054399.com/allimg/150330/6_150330161421_2.jpg\n",
      "http://dmimg.5054399.com/allimg/150320/6_150320104402_1.jpg\n",
      "http://dmimg.5054399.com/allimg/150317/6_150317101316_1.jpg\n",
      "http://dmimg.5054399.com/allimg/150331/6_150331095525_1.jpg\n",
      "http://dmimg.5054399.com/allimg/150305/6_150305102040_3.jpg\n",
      "http://dmimg.5054399.com/allimg/150218/6_150218163858_2.jpg\n",
      "http://dmimg.5054399.com/allimg/150209/6_150209151809_1.jpg\n",
      "http://dmimg.5054399.com/allimg/150206/6_150206154705_1.jpg\n",
      "http://dmimg.5054399.com/allimg/150203/32_150203114445_1.jpg\n",
      "http://dmimg.5054399.com/allimg/150130/6_150130160542_1.jpg\n",
      "http://dmimg.5054399.com/allimg/150129/6_150129154845_1.jpg\n",
      "http://dmimg.5054399.com/allimg/150128/6_150128193911_1.jpg\n",
      "http://dmimg.5054399.com/allimg/150128/6_150128165954_1.jpg\n",
      "http://dmimg.5054399.com/allimg/150127/6_150127115234_1.jpg\n",
      "http://dmimg.5054399.com/allimg/140623/6_140623110852_1.jpg\n",
      "http://dmimg.5054399.com/allimg/150121/6_150121135815_1.jpg\n",
      "http://dmimg.5054399.com/allimg/150114/6_150114094256_1.jpg\n",
      "http://dmimg.5054399.com/allimg/141212/6_141212093715_1.jpg\n",
      "http://dmimg.5054399.com/allimg/xiaduo/121.jpg\n",
      "http://dmimg.5054399.com/allimg/xiaduo/122.jpg\n",
      "http://dmimg.5054399.com/allimg/xiaduo/123.jpg\n",
      "http://dmimg.5054399.com/allimg/170415/6_170415112850_1.jpg\n",
      "http://dmimg.5054399.com/allimg/xiaduo/126.jpg\n",
      "http://dmimg.5054399.com/allimg/xiaduo/124.jpg\n",
      "http://dmimg.5054399.com/allimg/170613/42_170613104122_3.jpg\n",
      "http://dmimg.5054399.com/allimg/160217/6_160217142248_3.jpg\n",
      "http://dmimg.5054399.com/allimg/160127/6_160127110842_2.jpg\n",
      "http://dmimg.5054399.com/allimg/160126/6_160126100905_3.jpg\n",
      "http://dmimg.5054399.com/allimg/151028/6_151028142939_2.jpg\n",
      "http://dmimg.5054399.com/allimg/150330/6_150330161421_2.jpg\n",
      "http://dmimg.5054399.com/allimg/150320/6_150320104402_1.jpg\n",
      "http://dmimg.5054399.com/allimg/150317/6_150317101316_1.jpg\n",
      "http://dmimg.5054399.com/allimg/150331/6_150331095525_1.jpg\n",
      "http://dmimg.5054399.com/allimg/150305/6_150305102040_3.jpg\n",
      "http://dmimg.5054399.com/allimg/150218/6_150218163858_2.jpg\n",
      "http://dmimg.5054399.com/allimg/150209/6_150209151809_1.jpg\n",
      "http://dmimg.5054399.com/allimg/150206/6_150206154705_1.jpg\n",
      "http://dmimg.5054399.com/allimg/150203/32_150203114445_1.jpg\n",
      "http://dmimg.5054399.com/allimg/150130/6_150130160542_1.jpg\n",
      "http://dmimg.5054399.com/allimg/150129/6_150129154845_1.jpg\n",
      "http://dmimg.5054399.com/allimg/150128/6_150128193911_1.jpg\n",
      "http://dmimg.5054399.com/allimg/150128/6_150128165954_1.jpg\n",
      "http://dmimg.5054399.com/allimg/150127/6_150127115234_1.jpg\n",
      "http://dmimg.5054399.com/allimg/140623/6_140623110852_1.jpg\n",
      "http://dmimg.5054399.com/allimg/150121/6_150121135815_1.jpg\n",
      "http://dmimg.5054399.com/allimg/150114/6_150114094256_1.jpg\n",
      "http://dmimg.5054399.com/allimg/141212/6_141212093715_1.jpg\n",
      "http://dmimg.5054399.com/allimg/xiaduo/121.jpg\n",
      "http://dmimg.5054399.com/allimg/xiaduo/122.jpg\n",
      "http://dmimg.5054399.com/allimg/xiaduo/123.jpg\n",
      "http://dmimg.5054399.com/allimg/170415/6_170415112850_1.jpg\n",
      "http://dmimg.5054399.com/allimg/xiaduo/126.jpg\n",
      "http://dmimg.5054399.com/allimg/xiaduo/124.jpg\n",
      "http://dmimg.5054399.com/allimg/170613/42_170613104122_3.jpg\n",
      "http://dmimg.5054399.com/allimg/160217/6_160217142248_3.jpg\n",
      "http://dmimg.5054399.com/allimg/160127/6_160127110842_2.jpg\n",
      "http://dmimg.5054399.com/allimg/160126/6_160126100905_3.jpg\n",
      "http://dmimg.5054399.com/allimg/151028/6_151028142939_2.jpg\n",
      "http://dmimg.5054399.com/allimg/150330/6_150330161421_2.jpg\n",
      "http://dmimg.5054399.com/allimg/150320/6_150320104402_1.jpg\n",
      "http://dmimg.5054399.com/allimg/150317/6_150317101316_1.jpg\n",
      "http://dmimg.5054399.com/allimg/150331/6_150331095525_1.jpg\n",
      "http://dmimg.5054399.com/allimg/150305/6_150305102040_3.jpg\n",
      "http://dmimg.5054399.com/allimg/150218/6_150218163858_2.jpg\n",
      "http://dmimg.5054399.com/allimg/150209/6_150209151809_1.jpg\n",
      "http://dmimg.5054399.com/allimg/150206/6_150206154705_1.jpg\n",
      "http://dmimg.5054399.com/allimg/150203/32_150203114445_1.jpg\n",
      "http://dmimg.5054399.com/allimg/150130/6_150130160542_1.jpg\n",
      "http://dmimg.5054399.com/allimg/150129/6_150129154845_1.jpg\n",
      "http://dmimg.5054399.com/allimg/150128/6_150128193911_1.jpg\n",
      "http://dmimg.5054399.com/allimg/150128/6_150128165954_1.jpg\n",
      "http://dmimg.5054399.com/allimg/150127/6_150127115234_1.jpg\n",
      "http://dmimg.5054399.com/allimg/140623/6_140623110852_1.jpg\n",
      "http://dmimg.5054399.com/allimg/150121/6_150121135815_1.jpg\n",
      "http://dmimg.5054399.com/allimg/150114/6_150114094256_1.jpg\n",
      "http://dmimg.5054399.com/allimg/141212/6_141212093715_1.jpg\n",
      "http://dmimg.5054399.com/allimg/xiaduo/121.jpg\n",
      "http://dmimg.5054399.com/allimg/xiaduo/122.jpg\n",
      "http://dmimg.5054399.com/allimg/xiaduo/123.jpg\n",
      "http://dmimg.5054399.com/allimg/170415/6_170415112850_1.jpg\n",
      "http://dmimg.5054399.com/allimg/xiaduo/126.jpg\n",
      "http://dmimg.5054399.com/allimg/xiaduo/124.jpg\n",
      "http://dmimg.5054399.com/allimg/170613/42_170613104122_3.jpg\n",
      "http://dmimg.5054399.com/allimg/160217/6_160217142248_3.jpg\n",
      "http://dmimg.5054399.com/allimg/160127/6_160127110842_2.jpg\n",
      "http://dmimg.5054399.com/allimg/160126/6_160126100905_3.jpg\n",
      "http://dmimg.5054399.com/allimg/151028/6_151028142939_2.jpg\n",
      "http://dmimg.5054399.com/allimg/150330/6_150330161421_2.jpg\n",
      "http://dmimg.5054399.com/allimg/150320/6_150320104402_1.jpg\n",
      "http://dmimg.5054399.com/allimg/150317/6_150317101316_1.jpg\n",
      "http://dmimg.5054399.com/allimg/150331/6_150331095525_1.jpg\n",
      "http://dmimg.5054399.com/allimg/150305/6_150305102040_3.jpg\n",
      "http://dmimg.5054399.com/allimg/150218/6_150218163858_2.jpg\n",
      "http://dmimg.5054399.com/allimg/150209/6_150209151809_1.jpg\n",
      "http://dmimg.5054399.com/allimg/150206/6_150206154705_1.jpg\n",
      "http://dmimg.5054399.com/allimg/150203/32_150203114445_1.jpg\n",
      "http://dmimg.5054399.com/allimg/150130/6_150130160542_1.jpg\n",
      "http://dmimg.5054399.com/allimg/150129/6_150129154845_1.jpg\n",
      "http://dmimg.5054399.com/allimg/150128/6_150128193911_1.jpg\n",
      "http://dmimg.5054399.com/allimg/150128/6_150128165954_1.jpg\n",
      "http://dmimg.5054399.com/allimg/150127/6_150127115234_1.jpg\n",
      "http://dmimg.5054399.com/allimg/140623/6_140623110852_1.jpg\n",
      "http://dmimg.5054399.com/allimg/150121/6_150121135815_1.jpg\n",
      "http://dmimg.5054399.com/allimg/150114/6_150114094256_1.jpg\n",
      "http://dmimg.5054399.com/allimg/141212/6_141212093715_1.jpg\n",
      "http://dmimg.5054399.com/allimg/xiaduo/121.jpg\n",
      "http://dmimg.5054399.com/allimg/xiaduo/122.jpg\n",
      "http://dmimg.5054399.com/allimg/xiaduo/123.jpg\n",
      "http://dmimg.5054399.com/allimg/170415/6_170415112850_1.jpg\n",
      "http://dmimg.5054399.com/allimg/xiaduo/126.jpg\n",
      "http://dmimg.5054399.com/allimg/xiaduo/124.jpg\n",
      "http://dmimg.5054399.com/allimg/170613/42_170613104122_3.jpg\n",
      "http://dmimg.5054399.com/allimg/160217/6_160217142248_3.jpg\n",
      "http://dmimg.5054399.com/allimg/160127/6_160127110842_2.jpg\n",
      "http://dmimg.5054399.com/allimg/160126/6_160126100905_3.jpg\n",
      "http://dmimg.5054399.com/allimg/151028/6_151028142939_2.jpg\n"
     ]
    },
    {
     "name": "stdout",
     "output_type": "stream",
     "text": [
      "http://dmimg.5054399.com/allimg/150330/6_150330161421_2.jpg\n",
      "http://dmimg.5054399.com/allimg/150320/6_150320104402_1.jpg\n",
      "http://dmimg.5054399.com/allimg/150317/6_150317101316_1.jpg\n",
      "http://dmimg.5054399.com/allimg/150331/6_150331095525_1.jpg\n",
      "http://dmimg.5054399.com/allimg/150305/6_150305102040_3.jpg\n",
      "http://dmimg.5054399.com/allimg/150218/6_150218163858_2.jpg\n",
      "http://dmimg.5054399.com/allimg/150209/6_150209151809_1.jpg\n",
      "http://dmimg.5054399.com/allimg/150206/6_150206154705_1.jpg\n",
      "http://dmimg.5054399.com/allimg/150203/32_150203114445_1.jpg\n",
      "http://dmimg.5054399.com/allimg/150130/6_150130160542_1.jpg\n",
      "http://dmimg.5054399.com/allimg/150129/6_150129154845_1.jpg\n",
      "http://dmimg.5054399.com/allimg/150128/6_150128193911_1.jpg\n",
      "http://dmimg.5054399.com/allimg/150128/6_150128165954_1.jpg\n",
      "http://dmimg.5054399.com/allimg/150127/6_150127115234_1.jpg\n",
      "http://dmimg.5054399.com/allimg/140623/6_140623110852_1.jpg\n",
      "http://dmimg.5054399.com/allimg/150121/6_150121135815_1.jpg\n",
      "http://dmimg.5054399.com/allimg/150114/6_150114094256_1.jpg\n",
      "http://dmimg.5054399.com/allimg/141212/6_141212093715_1.jpg\n",
      "http://dmimg.5054399.com/allimg/xiaduo/121.jpg\n",
      "http://dmimg.5054399.com/allimg/xiaduo/122.jpg\n",
      "http://dmimg.5054399.com/allimg/xiaduo/123.jpg\n",
      "http://dmimg.5054399.com/allimg/170415/6_170415112850_1.jpg\n",
      "http://dmimg.5054399.com/allimg/xiaduo/126.jpg\n",
      "http://dmimg.5054399.com/allimg/xiaduo/124.jpg\n",
      "http://dmimg.5054399.com/allimg/170613/42_170613104122_3.jpg\n",
      "http://dmimg.5054399.com/allimg/160217/6_160217142248_3.jpg\n",
      "http://dmimg.5054399.com/allimg/160127/6_160127110842_2.jpg\n",
      "http://dmimg.5054399.com/allimg/160126/6_160126100905_3.jpg\n",
      "http://dmimg.5054399.com/allimg/151028/6_151028142939_2.jpg\n",
      "http://dmimg.5054399.com/allimg/150330/6_150330161421_2.jpg\n",
      "http://dmimg.5054399.com/allimg/150320/6_150320104402_1.jpg\n",
      "http://dmimg.5054399.com/allimg/150317/6_150317101316_1.jpg\n",
      "http://dmimg.5054399.com/allimg/150331/6_150331095525_1.jpg\n",
      "http://dmimg.5054399.com/allimg/150305/6_150305102040_3.jpg\n",
      "http://dmimg.5054399.com/allimg/150218/6_150218163858_2.jpg\n",
      "http://dmimg.5054399.com/allimg/150209/6_150209151809_1.jpg\n",
      "http://dmimg.5054399.com/allimg/150206/6_150206154705_1.jpg\n",
      "http://dmimg.5054399.com/allimg/150203/32_150203114445_1.jpg\n",
      "http://dmimg.5054399.com/allimg/150130/6_150130160542_1.jpg\n",
      "http://dmimg.5054399.com/allimg/150129/6_150129154845_1.jpg\n",
      "http://dmimg.5054399.com/allimg/150128/6_150128193911_1.jpg\n",
      "http://dmimg.5054399.com/allimg/150128/6_150128165954_1.jpg\n",
      "http://dmimg.5054399.com/allimg/150127/6_150127115234_1.jpg\n",
      "http://dmimg.5054399.com/allimg/140623/6_140623110852_1.jpg\n",
      "http://dmimg.5054399.com/allimg/150121/6_150121135815_1.jpg\n",
      "http://dmimg.5054399.com/allimg/150114/6_150114094256_1.jpg\n",
      "http://dmimg.5054399.com/allimg/141212/6_141212093715_1.jpg\n",
      "http://dmimg.5054399.com/allimg/xiaduo/121.jpg\n",
      "http://dmimg.5054399.com/allimg/xiaduo/122.jpg\n",
      "http://dmimg.5054399.com/allimg/xiaduo/123.jpg\n",
      "http://dmimg.5054399.com/allimg/170415/6_170415112850_1.jpg\n",
      "http://dmimg.5054399.com/allimg/xiaduo/126.jpg\n",
      "http://dmimg.5054399.com/allimg/xiaduo/124.jpg\n",
      "http://dmimg.5054399.com/allimg/170613/42_170613104122_3.jpg\n",
      "http://dmimg.5054399.com/allimg/160217/6_160217142248_3.jpg\n",
      "http://dmimg.5054399.com/allimg/160127/6_160127110842_2.jpg\n",
      "http://dmimg.5054399.com/allimg/160126/6_160126100905_3.jpg\n",
      "http://dmimg.5054399.com/allimg/151028/6_151028142939_2.jpg\n"
     ]
    }
   ],
   "source": [
    "a='http://www.4399dmw.com/haizeiwang/tupian/list-273-'\n",
    "for i in range(1,8):\n",
    "    url =a ==str(i)+ '.html'\n",
    "    HTML =requests.get(ur1).text\n",
    "    LIST=HTML.split('\\n')\n",
    "    for line in LIST:\n",
    "     #   if '海贼王' in i:\n",
    "         if '.jpg' in line:\n",
    "            lin2= line.split('\"') \n",
    "            for linee in lin2:\n",
    "                if '.jpg' in linee:\n",
    "                    print(linee)"
   ]
  },
  {
   "cell_type": "markdown",
   "metadata": {},
   "source": [
    "## 转换字符串\n",
    "![](../Photo/101.png)"
   ]
  },
  {
   "cell_type": "code",
   "execution_count": 30,
   "metadata": {},
   "outputs": [
    {
     "data": {
      "text/plain": [
       "'K'"
      ]
     },
     "execution_count": 30,
     "metadata": {},
     "output_type": "execute_result"
    }
   ],
   "source": [
    "a = 'k'\n",
    "a.capitalize()"
   ]
  },
  {
   "cell_type": "markdown",
   "metadata": {},
   "source": [
    "## 删除字符串\n",
    "![](../Photo/146.png)"
   ]
  },
  {
   "cell_type": "markdown",
   "metadata": {},
   "source": [
    "## 格式化字符串\n",
    "![](../Photo/103.png)"
   ]
  },
  {
   "cell_type": "markdown",
   "metadata": {},
   "source": [
    "## EP:\n",
    "- 1\n",
    "![](../Photo/104.png)\n",
    "- 2 \n",
    "    随机参数100个数字，将www.baidu.com/?page=进行拼接"
   ]
  },
  {
   "cell_type": "markdown",
   "metadata": {},
   "source": [
    "## Python高级使用方法 -- 字符串\n",
    "- 我们经常使用的方法实际上就是调用Python的运算重载\n",
    "![](../Photo/105.png)"
   ]
  },
  {
   "cell_type": "markdown",
   "metadata": {},
   "source": [
    "# Homework\n",
    "- 1\n",
    "![](../Photo/106.png)"
   ]
  },
  {
   "cell_type": "code",
   "execution_count": 1,
   "metadata": {},
   "outputs": [],
   "source": [
    "import re\n",
    "\n",
    "class SSN():\n",
    "    def __init__(self, text):\n",
    "        self.text = text\n",
    "    def validText(self):\n",
    "        reSSN = r'^[0-9]{3}\\-[0-9]{2}\\-[0-9]{4}$'\n",
    "        if re.match(reSSN, self.text):\n",
    "            print('Valid SSN')\n",
    "        else:\n",
    "            print('Invalid SSN')"
   ]
  },
  {
   "cell_type": "code",
   "execution_count": 2,
   "metadata": {},
   "outputs": [
    {
     "name": "stdout",
     "output_type": "stream",
     "text": [
      "输入一个SSN：221-23-6666\n",
      "Valid SSN\n"
     ]
    }
   ],
   "source": [
    "text = SSN(input('输入一个SSN：'))\n",
    "text.validText()"
   ]
  },
  {
   "cell_type": "markdown",
   "metadata": {},
   "source": [
    "- 2\n",
    "![](../Photo/107.png)"
   ]
  },
  {
   "cell_type": "code",
   "execution_count": 5,
   "metadata": {},
   "outputs": [
    {
     "name": "stdout",
     "output_type": "stream",
     "text": [
      "输入一个字符串：low\n",
      "输入一个新字符串：tlow\n",
      "第一个字符串是第二个字符串的子串？\n",
      "True\n"
     ]
    }
   ],
   "source": [
    "class Strings():\n",
    "    def __init__(self, text):\n",
    "        self.text = text\n",
    "    def __find__(self, other_text):\n",
    "        tag = False\n",
    "        len1 = len(other_text)\n",
    "        len2 = len(self.text)\n",
    "        for i in range(0, len2):\n",
    "            if other_text[0] == self.text[i]:\n",
    "                for j in range(0, len1):\n",
    "                    if other_text[j] == self.text[i]:\n",
    "                        tag = True\n",
    "        return tag\n",
    "text1 = input('输入一个字符串：')\n",
    "text2 = Strings(input('输入一个新字符串：'))\n",
    "print('第一个字符串是第二个字符串的子串？')\n",
    "print(text2.__find__(text1))"
   ]
  },
  {
   "cell_type": "markdown",
   "metadata": {},
   "source": [
    "- 3\n",
    "![](../Photo/108.png)"
   ]
  },
  {
   "cell_type": "code",
   "execution_count": 6,
   "metadata": {},
   "outputs": [
    {
     "name": "stdout",
     "output_type": "stream",
     "text": [
      "输入一个PassWord：12243w.54\n",
      "Invalid PassWord\n"
     ]
    }
   ],
   "source": [
    "class PassWord():\n",
    "    def __init__(self, text):\n",
    "        self.text = text\n",
    "    def validPassWord(self):\n",
    "        sumnum = 0\n",
    "        for i in range(len(self.text)):\n",
    "            if '0' <= self.text[i] <= '9':\n",
    "                sumnum += 1\n",
    "        if (len(self.text) >= 8) and (self.text.isalnum() == True) and (sumnum >= 2):\n",
    "            print('Valid PassWord')\n",
    "        else:\n",
    "            print('Invalid PassWord')\n",
    "text = PassWord(input('输入一个PassWord：'))\n",
    "text.validPassWord()"
   ]
  },
  {
   "cell_type": "markdown",
   "metadata": {},
   "source": [
    "- 4\n",
    "![](../Photo/109.png)"
   ]
  },
  {
   "cell_type": "code",
   "execution_count": null,
   "metadata": {},
   "outputs": [],
   "source": []
  },
  {
   "cell_type": "markdown",
   "metadata": {},
   "source": [
    "- 5\n",
    "![](../Photo/110.png)"
   ]
  },
  {
   "cell_type": "markdown",
   "metadata": {},
   "source": [
    "- 6\n",
    "![](../Photo/111.png)"
   ]
  },
  {
   "cell_type": "code",
   "execution_count": 7,
   "metadata": {},
   "outputs": [
    {
     "name": "stdout",
     "output_type": "stream",
     "text": [
      "输入一个字符串：1245dfg\n",
      "1245dfg 反向字符串为：gfd5421\n"
     ]
    }
   ],
   "source": [
    "def reverse(input_text):\n",
    "    new_text = []\n",
    "    for i in range(len(input_text)-1, -1, -1):\n",
    "        new_text.append(input_text[i])\n",
    "    return (''.join(new_text))\n",
    "        \n",
    "input_text = input('输入一个字符串：')\n",
    "print(input_text +  ' 反向字符串为：' + reverse(input_text) )   "
   ]
  },
  {
   "cell_type": "markdown",
   "metadata": {},
   "source": [
    "- 7\n",
    "![](../Photo/112.png)"
   ]
  },
  {
   "cell_type": "markdown",
   "metadata": {},
   "source": [
    "- 8\n",
    "![](../Photo/113.png)"
   ]
  },
  {
   "cell_type": "markdown",
   "metadata": {},
   "source": [
    "- 9\n",
    "![](../Photo/114.png)"
   ]
  }
 ],
 "metadata": {
  "kernelspec": {
   "display_name": "Python 3",
   "language": "python",
   "name": "python3"
  },
  "language_info": {
   "codemirror_mode": {
    "name": "ipython",
    "version": 3
   },
   "file_extension": ".py",
   "mimetype": "text/x-python",
   "name": "python",
   "nbconvert_exporter": "python",
   "pygments_lexer": "ipython3",
   "version": "3.6.4"
  }
 },
 "nbformat": 4,
 "nbformat_minor": 2
}
